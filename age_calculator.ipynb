{
 "cells": [
  {
   "cell_type": "code",
   "execution_count": 1,
   "id": "6ce5c42b",
   "metadata": {},
   "outputs": [
    {
     "name": "stdout",
     "output_type": "stream",
     "text": [
      "Enter day:22\n",
      "Enter month:11\n",
      "Enter year:2002\n",
      "You are 20 years old\n"
     ]
    }
   ],
   "source": [
    "from datetime import date\n",
    "\n",
    "# defining the for calculating the age, the function takes day\n",
    "def calculate_age(day, month, year):\n",
    "    # we are getting the current date using the today()\n",
    "    today = date.today()\n",
    "    # convering year, month and day into birthdate\n",
    "    birthdate = date(year, month, day)\n",
    "    # calculating the age\n",
    "    age = today.year - birthdate.year - ((today.month, today.day) < (birthdate.month, birthdate.day))\n",
    "    # return the age value\n",
    "    return age\n",
    "\n",
    "# the try/except block\n",
    "# the try will execute if there are no exceptions\n",
    "try:\n",
    "    # we are getting day, month, and year using input() function\n",
    "    day = input('Enter day:')\n",
    "    month = input('Enter month:')\n",
    "    year = input('Enter year:')\n",
    "    # creating a variable called age_result and we are also calling the claculate_age function\n",
    "    age_result = calculate_age(int(day), int(month), int(year))\n",
    "    print(f'You are {age_result} years old')\n",
    "\n",
    "# the except will catch all errors\n",
    "except:\n",
    "    print(f'Failed to calculate age, either day or month or year is invalid')\n",
    "\n"
   ]
  }
 ],
 "metadata": {
  "kernelspec": {
   "display_name": "Python 3 (ipykernel)",
   "language": "python",
   "name": "python3"
  },
  "language_info": {
   "codemirror_mode": {
    "name": "ipython",
    "version": 3
   },
   "file_extension": ".py",
   "mimetype": "text/x-python",
   "name": "python",
   "nbconvert_exporter": "python",
   "pygments_lexer": "ipython3",
   "version": "3.10.9"
  }
 },
 "nbformat": 4,
 "nbformat_minor": 5
}
